{
 "cells": [
  {
   "cell_type": "code",
   "execution_count": 3,
   "metadata": {
    "collapsed": true
   },
   "outputs": [],
   "source": [
    "import matplotlib.pyplot as plt\n",
    "import numpy as np"
   ]
  },
  {
   "cell_type": "code",
   "execution_count": 24,
   "metadata": {
    "collapsed": false
   },
   "outputs": [
    {
     "data": {
      "image/png": "[encoded data removed]",
      "text/plain": [
       "<matplotlib.figure.Figure at 0x6d90124a8>"
      ]
     },
     "metadata": {},
     "output_type": "display_data"
    }
   ],
   "source": [
    "a=np.array([1,2,3,4,5,6,7])  #feature\n",
    "b=np.array([8,9,10,11,12,13,14])  #label\n",
    "plt.scatter(a,b)    #used to plot points\n",
    "plt.show()            #necessary to show the plot"
   ]
  },
  {
   "cell_type": "markdown",
   "metadata": {},
   "source": [
    "# Calculating m and c manually"
   ]
  },
  {
   "cell_type": "code",
   "execution_count": 17,
   "metadata": {
    "collapsed": false
   },
   "outputs": [
    {
     "data": {
      "text/html": [
       "<div>\n",
       "<table border=\"1\" class=\"dataframe\">\n",
       "  <thead>\n",
       "    <tr style=\"text-align: right;\">\n",
       "      <th></th>\n",
       "      <th>a</th>\n",
       "      <th>b</th>\n",
       "      <th>a-mean_a</th>\n",
       "      <th>b-mean_b</th>\n",
       "      <th>product</th>\n",
       "      <th>a-mean_a^2</th>\n",
       "    </tr>\n",
       "  </thead>\n",
       "  <tbody>\n",
       "    <tr>\n",
       "      <th>0</th>\n",
       "      <td>3</td>\n",
       "      <td>4.5</td>\n",
       "      <td>-0.4</td>\n",
       "      <td>-0.24</td>\n",
       "      <td>0.096</td>\n",
       "      <td>0.16</td>\n",
       "    </tr>\n",
       "    <tr>\n",
       "      <th>1</th>\n",
       "      <td>2</td>\n",
       "      <td>4</td>\n",
       "      <td>-1.4</td>\n",
       "      <td>-0.74</td>\n",
       "      <td>1.036</td>\n",
       "      <td>1.96</td>\n",
       "    </tr>\n",
       "    <tr>\n",
       "      <th>2</th>\n",
       "      <td>2.5</td>\n",
       "      <td>3.7</td>\n",
       "      <td>-0.9</td>\n",
       "      <td>-1.04</td>\n",
       "      <td>0.936</td>\n",
       "      <td>0.81</td>\n",
       "    </tr>\n",
       "    <tr>\n",
       "      <th>3</th>\n",
       "      <td>5</td>\n",
       "      <td>6</td>\n",
       "      <td>1.6</td>\n",
       "      <td>1.26</td>\n",
       "      <td>2.016</td>\n",
       "      <td>2.56</td>\n",
       "    </tr>\n",
       "    <tr>\n",
       "      <th>4</th>\n",
       "      <td>4.5</td>\n",
       "      <td>5.5</td>\n",
       "      <td>1.1</td>\n",
       "      <td>0.76</td>\n",
       "      <td>0.836</td>\n",
       "      <td>1.21</td>\n",
       "    </tr>\n",
       "    <tr>\n",
       "      <th>5</th>\n",
       "      <td>3.4</td>\n",
       "      <td>4.7</td>\n",
       "      <td>0.0</td>\n",
       "      <td>-0.04</td>\n",
       "      <td>0</td>\n",
       "      <td>0</td>\n",
       "    </tr>\n",
       "    <tr>\n",
       "      <th>6</th>\n",
       "      <td>mean_a=3.4</td>\n",
       "      <td>mean_b=4.74</td>\n",
       "      <td>NaN</td>\n",
       "      <td>NaN</td>\n",
       "      <td>NaN</td>\n",
       "      <td>NaN</td>\n",
       "    </tr>\n",
       "    <tr>\n",
       "      <th>7</th>\n",
       "      <td>NaN</td>\n",
       "      <td>NaN</td>\n",
       "      <td>NaN</td>\n",
       "      <td>NaN</td>\n",
       "      <td>4.92</td>\n",
       "      <td>6.7</td>\n",
       "    </tr>\n",
       "    <tr>\n",
       "      <th>8</th>\n",
       "      <td>NaN</td>\n",
       "      <td>NaN</td>\n",
       "      <td>NaN</td>\n",
       "      <td>NaN</td>\n",
       "      <td>SLOPE=  4.92/6.7</td>\n",
       "      <td>c=b-m*a</td>\n",
       "    </tr>\n",
       "    <tr>\n",
       "      <th>9</th>\n",
       "      <td>NaN</td>\n",
       "      <td>NaN</td>\n",
       "      <td>NaN</td>\n",
       "      <td>NaN</td>\n",
       "      <td>0.734328358</td>\n",
       "      <td>4.74-(0.73*3.4)</td>\n",
       "    </tr>\n",
       "    <tr>\n",
       "      <th>10</th>\n",
       "      <td>NaN</td>\n",
       "      <td>NaN</td>\n",
       "      <td>NaN</td>\n",
       "      <td>NaN</td>\n",
       "      <td>NaN</td>\n",
       "      <td>2.258</td>\n",
       "    </tr>\n",
       "    <tr>\n",
       "      <th>11</th>\n",
       "      <td>NaN</td>\n",
       "      <td>NaN</td>\n",
       "      <td>NaN</td>\n",
       "      <td>b=0.73*a+2.25</td>\n",
       "      <td>NaN</td>\n",
       "      <td>NaN</td>\n",
       "    </tr>\n",
       "  </tbody>\n",
       "</table>\n",
       "</div>"
      ],
      "text/plain": [
       "             a            b  a-mean_a       b-mean_b           product  \\\n",
       "0            3          4.5      -0.4          -0.24             0.096   \n",
       "1            2            4      -1.4          -0.74             1.036   \n",
       "2          2.5          3.7      -0.9          -1.04             0.936   \n",
       "3            5            6       1.6           1.26             2.016   \n",
       "4          4.5          5.5       1.1           0.76             0.836   \n",
       "5          3.4          4.7       0.0          -0.04                 0   \n",
       "6   mean_a=3.4  mean_b=4.74       NaN            NaN               NaN   \n",
       "7          NaN          NaN       NaN            NaN              4.92   \n",
       "8          NaN          NaN       NaN            NaN  SLOPE=  4.92/6.7   \n",
       "9          NaN          NaN       NaN            NaN       0.734328358   \n",
       "10         NaN          NaN       NaN            NaN               NaN   \n",
       "11         NaN          NaN       NaN  b=0.73*a+2.25               NaN   \n",
       "\n",
       "         a-mean_a^2  \n",
       "0              0.16  \n",
       "1              1.96  \n",
       "2              0.81  \n",
       "3              2.56  \n",
       "4              1.21  \n",
       "5                 0  \n",
       "6               NaN  \n",
       "7               6.7  \n",
       "8           c=b-m*a  \n",
       "9   4.74-(0.73*3.4)  \n",
       "10            2.258  \n",
       "11              NaN  "
      ]
     },
     "execution_count": 17,
     "metadata": {},
     "output_type": "execute_result"
    }
   ],
   "source": [
    "import pandas as pd\n",
    "manual=pd.read_csv('D:\\ML.csv')\n",
    "manual\n"
   ]
  },
  {
   "cell_type": "code",
   "execution_count": 18,
   "metadata": {
    "collapsed": false
   },
   "outputs": [
    {
     "data": {
      "image/png": "[encoded data removed]",
      "text/plain": [
       "<matplotlib.figure.Figure at 0x6e0974278>"
      ]
     },
     "metadata": {},
     "output_type": "display_data"
    }
   ],
   "source": [
    "a=np.array([3,2,2.5,5,4.5,3.4,3.4])  #feature\n",
    "b=np.array([4.5,4,3.7,6,5.5,4.7,4.74])  #label\n",
    "plt.scatter(a,b)\n",
    "plt.show()"
   ]
  },
  {
   "cell_type": "code",
   "execution_count": null,
   "metadata": {
    "collapsed": true
   },
   "outputs": [],
   "source": []
  },
  {
   "cell_type": "code",
   "execution_count": 14,
   "metadata": {
    "collapsed": true
   },
   "outputs": [],
   "source": [
    "m=0.734  #slope of line\n",
    "c=2.258  #intercept of line"
   ]
  },
  {
   "cell_type": "code",
   "execution_count": 19,
   "metadata": {
    "collapsed": false
   },
   "outputs": [
    {
     "data": {
      "image/png": "[encoded data removed]",
      "text/plain": [
       "<matplotlib.figure.Figure at 0x6d921eef0>"
      ]
     },
     "metadata": {},
     "output_type": "display_data"
    }
   ],
   "source": [
    "max_x=np.max(a)\n",
    "min_x=np.min(a)\n",
    "#x\n",
    "A=np.linspace(min_x,max_x)  #creates line in the following range\n",
    "#y\n",
    "B=m*A+c\n",
    "plt.scatter(a,b)\n",
    "plt.plot(A,B,color='#ff00ff')\n",
    "plt.show()"
   ]
  },
  {
   "cell_type": "markdown",
   "metadata": {},
   "source": [
    "# Linear Regression using single feature and label"
   ]
  },
  {
   "cell_type": "code",
   "execution_count": 23,
   "metadata": {
    "collapsed": false
   },
   "outputs": [
    {
     "data": {
      "text/html": [
       "<div>\n",
       "<table border=\"1\" class=\"dataframe\">\n",
       "  <thead>\n",
       "    <tr style=\"text-align: right;\">\n",
       "      <th></th>\n",
       "      <th>TV</th>\n",
       "      <th>radio</th>\n",
       "      <th>newspaper</th>\n",
       "      <th>sales</th>\n",
       "    </tr>\n",
       "  </thead>\n",
       "  <tbody>\n",
       "    <tr>\n",
       "      <th>1</th>\n",
       "      <td>230.1</td>\n",
       "      <td>37.8</td>\n",
       "      <td>69.2</td>\n",
       "      <td>22.1</td>\n",
       "    </tr>\n",
       "    <tr>\n",
       "      <th>2</th>\n",
       "      <td>44.5</td>\n",
       "      <td>39.3</td>\n",
       "      <td>45.1</td>\n",
       "      <td>10.4</td>\n",
       "    </tr>\n",
       "    <tr>\n",
       "      <th>3</th>\n",
       "      <td>17.2</td>\n",
       "      <td>45.9</td>\n",
       "      <td>69.3</td>\n",
       "      <td>9.3</td>\n",
       "    </tr>\n",
       "    <tr>\n",
       "      <th>4</th>\n",
       "      <td>151.5</td>\n",
       "      <td>41.3</td>\n",
       "      <td>58.5</td>\n",
       "      <td>18.5</td>\n",
       "    </tr>\n",
       "    <tr>\n",
       "      <th>5</th>\n",
       "      <td>180.8</td>\n",
       "      <td>10.8</td>\n",
       "      <td>58.4</td>\n",
       "      <td>12.9</td>\n",
       "    </tr>\n",
       "  </tbody>\n",
       "</table>\n",
       "</div>"
      ],
      "text/plain": [
       "      TV  radio  newspaper  sales\n",
       "1  230.1   37.8       69.2   22.1\n",
       "2   44.5   39.3       45.1   10.4\n",
       "3   17.2   45.9       69.3    9.3\n",
       "4  151.5   41.3       58.5   18.5\n",
       "5  180.8   10.8       58.4   12.9"
      ]
     },
     "execution_count": 23,
     "metadata": {},
     "output_type": "execute_result"
    }
   ],
   "source": [
    "import pandas as pd\n",
    "data=pd.read_csv('http://www-bcf.usc.edu/~gareth/ISL/Advertising.csv',index_col=0)\n",
    "data.head()"
   ]
  },
  {
   "cell_type": "markdown",
   "metadata": {},
   "source": [
    "# Calculating c and m using function"
   ]
  },
  {
   "cell_type": "code",
   "execution_count": 21,
   "metadata": {
    "collapsed": false
   },
   "outputs": [
    {
     "data": {
      "text/plain": [
       "200"
      ]
     },
     "execution_count": 21,
     "metadata": {},
     "output_type": "execute_result"
    }
   ],
   "source": [
    "x=data['TV']\n",
    "y=data['sales']\n",
    "len(x)\n",
    "len(y)\n"
   ]
  },
  {
   "cell_type": "code",
   "execution_count": 26,
   "metadata": {
    "collapsed": false
   },
   "outputs": [
    {
     "name": "stdout",
     "output_type": "stream",
     "text": [
      "0.047536640433\n",
      "7.03259354913\n"
     ]
    },
    {
     "data": {
      "image/png": "[encoded data removed]",
      "text/plain": [
       "<matplotlib.figure.Figure at 0x6e3c41a20>"
      ]
     },
     "metadata": {},
     "output_type": "display_data"
    }
   ],
   "source": [
    "x_mean=np.mean(x)\n",
    "y_mean=np.mean(y)\n",
    "num=den=0\n",
    "for i in range(1,201):\n",
    "    num+=(x[i]-x_mean)*(y[i]-y_mean)\n",
    "for i in range(1,201):\n",
    "    den+=(x[i]-x_mean)**2\n",
    "slope=num/den\n",
    "c=y_mean-(slope*x_mean)\n",
    "print(slope)\n",
    "print(c)\n",
    "x_max=np.max(x)+50\n",
    "x_min=np.min(x)-50\n",
    "A=np.linspace(x_min,x_max)\n",
    "B=slope*A+c\n",
    "plt.scatter(x,y)\n",
    "plt.plot(A,B,color='#ff00ff')\n",
    "plt.show()"
   ]
  },
  {
   "cell_type": "markdown",
   "metadata": {},
   "source": [
    "# Using linear model from sklearn\n",
    "# (manually splitting data)"
   ]
  },
  {
   "cell_type": "code",
   "execution_count": 25,
   "metadata": {
    "collapsed": false
   },
   "outputs": [
    {
     "name": "stdout",
     "output_type": "stream",
     "text": [
      "[ 7.06877767]\n",
      "[[ 0.04893566]]\n"
     ]
    },
    {
     "data": {
      "text/plain": [
       "3.0815721235049987"
      ]
     },
     "execution_count": 25,
     "metadata": {},
     "output_type": "execute_result"
    }
   ],
   "source": [
    "X=data['TV'].values\n",
    "Y=data['sales'].values\n",
    "#training set with 160 entities\n",
    "xtrain=X[0:160].reshape(160,1)\n",
    "ytrain=Y[0:160].reshape(160,1)\n",
    "\n",
    "#testing set with 40 entities\n",
    "xtest=X[160:200].reshape(40,1)\n",
    "ytest=Y[160:200].reshape(40,1)\n",
    "#scikit learn\n",
    "from sklearn.linear_model import LinearRegression\n",
    "lin=LinearRegression()\n",
    "#training\n",
    "lin.fit(xtrain,ytrain)\n",
    "print(lin.intercept_)\n",
    "print(lin.coef_)\n",
    "lin.predict([[67]])\n",
    "ypred=lin.predict(xtest)\n",
    "c=np.concatenate((ytest,ypred),axis=1)\n",
    "c\n",
    "from sklearn import metrics\n",
    "metrics.mean_absolute_error(ytest,ypred)"
   ]
  },
  {
   "cell_type": "markdown",
   "metadata": {},
   "source": [
    "# Train Test Split"
   ]
  },
  {
   "cell_type": "code",
   "execution_count": 27,
   "metadata": {
    "collapsed": false
   },
   "outputs": [
    {
     "data": {
      "text/plain": [
       "1.5028711068716241"
      ]
     },
     "execution_count": 27,
     "metadata": {},
     "output_type": "execute_result"
    }
   ],
   "source": [
    "#train best split\n",
    "x=data[['TV','radio']]\n",
    "y=data[['sales']]\n",
    "from sklearn.model_selection import train_test_split\n",
    "xtrain,xtest,ytrain,ytest=train_test_split(x,y,test_size=0.3)\n",
    "lin.fit(xtrain,ytrain)\n",
    "lin.intercept_\n",
    "lin.coef_ \n",
    "max_x=xtrain.max()\n",
    "min_x=xtrain.min()\n",
    "#A=np.linplane(min_x,max_x)\n",
    "#A.all()\n",
    "max_x\n",
    "ypred=lin.predict(xtest)\n",
    "ypred\n",
    "c=np.concatenate((ytest,ypred),axis=1)\n",
    "metrics.mean_absolute_error(ytest,ypred)"
   ]
  }
 ],
 "metadata": {
  "kernelspec": {
   "display_name": "Python 3",
   "language": "python",
   "name": "python3"
  },
  "language_info": {
   "codemirror_mode": {
    "name": "ipython",
    "version": 3
   },
   "file_extension": ".py",
   "mimetype": "text/x-python",
   "name": "python",
   "nbconvert_exporter": "python",
   "pygments_lexer": "ipython3",
   "version": "3.6.0"
  }
 },
 "nbformat": 4,
 "nbformat_minor": 2
}
